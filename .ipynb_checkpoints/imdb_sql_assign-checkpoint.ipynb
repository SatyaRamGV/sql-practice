{
 "cells": [
  {
   "cell_type": "code",
   "execution_count": 1,
   "metadata": {},
   "outputs": [],
   "source": [
    "import pandas as pd\n",
    "import sqlite3\n",
    "conn = sqlite3.connect('Db-IMDB.db')"
   ]
  },
  {
   "cell_type": "markdown",
   "metadata": {},
   "source": [
    "![schema](db_schema.jpeg)"
   ]
  },
  {
   "cell_type": "code",
   "execution_count": 2,
   "metadata": {},
   "outputs": [
    {
     "name": "stdout",
     "output_type": "stream",
     "text": [
      "[('Movie',), ('Genre',), ('Language',), ('Country',), ('Location',), ('M_Location',), ('M_Country',), ('M_Language',), ('M_Genre',), ('Person',), ('M_Producer',), ('M_Director',), ('M_Cast',)]\n"
     ]
    }
   ],
   "source": [
    "cursor = conn.cursor()\n",
    "cursor.execute(\"SELECT name FROM sqlite_master WHERE type='table';\")\n",
    "print(cursor.fetchall())"
   ]
  },
  {
   "cell_type": "markdown",
   "metadata": {},
   "source": [
    "1. List all the directors who directed a 'Comedy' movie in a leap year. (You need to check that\n",
    "the genre is 'Comedy’ and year is a leap year) Your query should return director name, the\n",
    "movie name, and the year."
   ]
  },
  {
   "cell_type": "code",
   "execution_count": 3,
   "metadata": {},
   "outputs": [],
   "source": [
    "# pd.read_sql_query(\"select distinct substr(year, -4) as sy from Movie ORDER BY sy\", conn)"
   ]
  },
  {
   "cell_type": "code",
   "execution_count": 4,
   "metadata": {},
   "outputs": [],
   "source": [
    "# pd.read_sql_query(\"select distinct m.title, m.year, g.Name \n",
    "#                   From GENRE g, Movie m, M_GENRE mg \n",
    "#                   where mg.GID = g.GID and TRIM(g.Name) = 'Comedy'\", conn)"
   ]
  },
  {
   "cell_type": "code",
   "execution_count": null,
   "metadata": {},
   "outputs": [],
   "source": []
  },
  {
   "cell_type": "code",
   "execution_count": 5,
   "metadata": {},
   "outputs": [],
   "source": [
    "movie_df = pd.read_sql_query(\"select * from MOVIE\", conn)\n",
    "genre_df = pd.read_sql_query(\"select * from GENRE\", conn)\n",
    "mdir_df = pd.read_sql_query(\"select * from M_Director\", conn)\n",
    "person_df = pd.read_sql_query(\"select * from PERSON\", conn)\n",
    "mgen_df = pd.read_sql_query(\"select * from M_Genre\", conn)\n",
    "mcast_df = pd.read_sql_query(\"select * from M_Cast\", conn)"
   ]
  },
  {
   "cell_type": "code",
   "execution_count": 6,
   "metadata": {},
   "outputs": [
    {
     "name": "stdout",
     "output_type": "stream",
     "text": [
      "(852, 3)\n"
     ]
    },
    {
     "data": {
      "text/html": [
       "<div>\n",
       "<style scoped>\n",
       "    .dataframe tbody tr th:only-of-type {\n",
       "        vertical-align: middle;\n",
       "    }\n",
       "\n",
       "    .dataframe tbody tr th {\n",
       "        vertical-align: top;\n",
       "    }\n",
       "\n",
       "    .dataframe thead th {\n",
       "        text-align: right;\n",
       "    }\n",
       "</style>\n",
       "<table border=\"1\" class=\"dataframe\">\n",
       "  <thead>\n",
       "    <tr style=\"text-align: right;\">\n",
       "      <th></th>\n",
       "      <th>TRIM(p.name)</th>\n",
       "      <th>title</th>\n",
       "      <th>myear</th>\n",
       "    </tr>\n",
       "  </thead>\n",
       "  <tbody>\n",
       "    <tr>\n",
       "      <th>0</th>\n",
       "      <td>Vishnupant Govind Damle</td>\n",
       "      <td>Sant Tukaram</td>\n",
       "      <td>1936</td>\n",
       "    </tr>\n",
       "    <tr>\n",
       "      <th>1</th>\n",
       "      <td>Franz Osten</td>\n",
       "      <td>Achhut Kanya</td>\n",
       "      <td>1936</td>\n",
       "    </tr>\n",
       "    <tr>\n",
       "      <th>2</th>\n",
       "      <td>P.C. Barua</td>\n",
       "      <td>Devdas</td>\n",
       "      <td>1936</td>\n",
       "    </tr>\n",
       "    <tr>\n",
       "      <th>3</th>\n",
       "      <td>Raj Kapoor</td>\n",
       "      <td>Aag</td>\n",
       "      <td>1948</td>\n",
       "    </tr>\n",
       "    <tr>\n",
       "      <th>4</th>\n",
       "      <td>S.U. Sunny</td>\n",
       "      <td>Mela</td>\n",
       "      <td>1948</td>\n",
       "    </tr>\n",
       "  </tbody>\n",
       "</table>\n",
       "</div>"
      ],
      "text/plain": [
       "              TRIM(p.name)         title myear\n",
       "0  Vishnupant Govind Damle  Sant Tukaram  1936\n",
       "1              Franz Osten  Achhut Kanya  1936\n",
       "2               P.C. Barua        Devdas  1936\n",
       "3               Raj Kapoor           Aag  1948\n",
       "4               S.U. Sunny          Mela  1948"
      ]
     },
     "execution_count": 6,
     "metadata": {},
     "output_type": "execute_result"
    }
   ],
   "source": [
    "r1 = pd.read_sql_query(\"\"\"select distinct TRIM(p.name), m.title, substr(m.year, -4) as myear\n",
    "                    from PERSON p, M_Director md, Movie m, M_GENRE mg, GENRE g\n",
    "                    where mg.GID = g.GID and TRIM(g.Name) = 'Comedy'\n",
    "                    and md.MID = m.MID and p.PID = TRIM(md.PID)\n",
    "                    and ((myear % 4 = 0 and myear % 100 <> 0) OR myear % 400 = 0) \n",
    "                    ORDER BY myear;\"\"\", conn)\n",
    "print(r1.shape)\n",
    "r1.head()"
   ]
  },
  {
   "cell_type": "code",
   "execution_count": null,
   "metadata": {},
   "outputs": [],
   "source": []
  },
  {
   "cell_type": "code",
   "execution_count": 7,
   "metadata": {},
   "outputs": [
    {
     "data": {
      "text/html": [
       "<div>\n",
       "<style scoped>\n",
       "    .dataframe tbody tr th:only-of-type {\n",
       "        vertical-align: middle;\n",
       "    }\n",
       "\n",
       "    .dataframe tbody tr th {\n",
       "        vertical-align: top;\n",
       "    }\n",
       "\n",
       "    .dataframe thead th {\n",
       "        text-align: right;\n",
       "    }\n",
       "</style>\n",
       "<table border=\"1\" class=\"dataframe\">\n",
       "  <thead>\n",
       "    <tr style=\"text-align: right;\">\n",
       "      <th></th>\n",
       "      <th>index</th>\n",
       "      <th>PID</th>\n",
       "      <th>Name</th>\n",
       "      <th>Gender</th>\n",
       "    </tr>\n",
       "  </thead>\n",
       "  <tbody>\n",
       "    <tr>\n",
       "      <th>0</th>\n",
       "      <td>0</td>\n",
       "      <td>nm0000288</td>\n",
       "      <td>Christian Bale</td>\n",
       "      <td>Male</td>\n",
       "    </tr>\n",
       "    <tr>\n",
       "      <th>1</th>\n",
       "      <td>1</td>\n",
       "      <td>nm0000949</td>\n",
       "      <td>Cate Blanchett</td>\n",
       "      <td>Female</td>\n",
       "    </tr>\n",
       "    <tr>\n",
       "      <th>2</th>\n",
       "      <td>2</td>\n",
       "      <td>nm1212722</td>\n",
       "      <td>Benedict Cumberbatch</td>\n",
       "      <td>Male</td>\n",
       "    </tr>\n",
       "    <tr>\n",
       "      <th>3</th>\n",
       "      <td>3</td>\n",
       "      <td>nm0365140</td>\n",
       "      <td>Naomie Harris</td>\n",
       "      <td>Female</td>\n",
       "    </tr>\n",
       "    <tr>\n",
       "      <th>4</th>\n",
       "      <td>4</td>\n",
       "      <td>nm0785227</td>\n",
       "      <td>Andy Serkis</td>\n",
       "      <td>Male</td>\n",
       "    </tr>\n",
       "  </tbody>\n",
       "</table>\n",
       "</div>"
      ],
      "text/plain": [
       "   index        PID                   Name  Gender\n",
       "0      0  nm0000288         Christian Bale    Male\n",
       "1      1  nm0000949         Cate Blanchett  Female\n",
       "2      2  nm1212722   Benedict Cumberbatch    Male\n",
       "3      3  nm0365140          Naomie Harris  Female\n",
       "4      4  nm0785227            Andy Serkis    Male"
      ]
     },
     "execution_count": 7,
     "metadata": {},
     "output_type": "execute_result"
    }
   ],
   "source": [
    "person_df.head()"
   ]
  },
  {
   "cell_type": "code",
   "execution_count": null,
   "metadata": {},
   "outputs": [],
   "source": []
  },
  {
   "cell_type": "code",
   "execution_count": null,
   "metadata": {},
   "outputs": [],
   "source": []
  },
  {
   "cell_type": "code",
   "execution_count": 8,
   "metadata": {},
   "outputs": [
    {
     "data": {
      "text/html": [
       "<div>\n",
       "<style scoped>\n",
       "    .dataframe tbody tr th:only-of-type {\n",
       "        vertical-align: middle;\n",
       "    }\n",
       "\n",
       "    .dataframe tbody tr th {\n",
       "        vertical-align: top;\n",
       "    }\n",
       "\n",
       "    .dataframe thead th {\n",
       "        text-align: right;\n",
       "    }\n",
       "</style>\n",
       "<table border=\"1\" class=\"dataframe\">\n",
       "  <thead>\n",
       "    <tr style=\"text-align: right;\">\n",
       "      <th></th>\n",
       "      <th>index</th>\n",
       "      <th>Name</th>\n",
       "      <th>GID</th>\n",
       "    </tr>\n",
       "  </thead>\n",
       "  <tbody>\n",
       "    <tr>\n",
       "      <th>0</th>\n",
       "      <td>1</td>\n",
       "      <td>Action, Comedy, Crime</td>\n",
       "      <td>1</td>\n",
       "    </tr>\n",
       "    <tr>\n",
       "      <th>1</th>\n",
       "      <td>6</td>\n",
       "      <td>Comedy, Crime, Thriller</td>\n",
       "      <td>6</td>\n",
       "    </tr>\n",
       "    <tr>\n",
       "      <th>2</th>\n",
       "      <td>8</td>\n",
       "      <td>Comedy, Drama, Family</td>\n",
       "      <td>8</td>\n",
       "    </tr>\n",
       "    <tr>\n",
       "      <th>3</th>\n",
       "      <td>10</td>\n",
       "      <td>Comedy</td>\n",
       "      <td>10</td>\n",
       "    </tr>\n",
       "    <tr>\n",
       "      <th>4</th>\n",
       "      <td>13</td>\n",
       "      <td>Action, Comedy, Sci-Fi</td>\n",
       "      <td>13</td>\n",
       "    </tr>\n",
       "  </tbody>\n",
       "</table>\n",
       "</div>"
      ],
      "text/plain": [
       "   index                                 Name  GID\n",
       "0      1    Action, Comedy, Crime                1\n",
       "1      6  Comedy, Crime, Thriller                6\n",
       "2      8    Comedy, Drama, Family                8\n",
       "3     10                   Comedy               10\n",
       "4     13   Action, Comedy, Sci-Fi               13"
      ]
     },
     "execution_count": 8,
     "metadata": {},
     "output_type": "execute_result"
    }
   ],
   "source": [
    "pd.read_sql_query(\"select * from GENRE where Name LIKE '%Comedy%';\", conn).head()"
   ]
  },
  {
   "cell_type": "code",
   "execution_count": 9,
   "metadata": {},
   "outputs": [
    {
     "name": "stdout",
     "output_type": "stream",
     "text": [
      "(17, 4)\n"
     ]
    },
    {
     "data": {
      "text/html": [
       "<div>\n",
       "<style scoped>\n",
       "    .dataframe tbody tr th:only-of-type {\n",
       "        vertical-align: middle;\n",
       "    }\n",
       "\n",
       "    .dataframe tbody tr th {\n",
       "        vertical-align: top;\n",
       "    }\n",
       "\n",
       "    .dataframe thead th {\n",
       "        text-align: right;\n",
       "    }\n",
       "</style>\n",
       "<table border=\"1\" class=\"dataframe\">\n",
       "  <thead>\n",
       "    <tr style=\"text-align: right;\">\n",
       "      <th></th>\n",
       "      <th>Name</th>\n",
       "      <th>PID</th>\n",
       "      <th>title</th>\n",
       "      <th>myear</th>\n",
       "    </tr>\n",
       "  </thead>\n",
       "  <tbody>\n",
       "    <tr>\n",
       "      <th>0</th>\n",
       "      <td>Amitabh Bachchan</td>\n",
       "      <td>nm0000821</td>\n",
       "      <td>Anand</td>\n",
       "      <td>1971</td>\n",
       "    </tr>\n",
       "    <tr>\n",
       "      <th>1</th>\n",
       "      <td>Asit Kumar Sen</td>\n",
       "      <td>nm0783996</td>\n",
       "      <td>Anand</td>\n",
       "      <td>1971</td>\n",
       "    </tr>\n",
       "    <tr>\n",
       "      <th>2</th>\n",
       "      <td>Atam Prakash</td>\n",
       "      <td>nm0695155</td>\n",
       "      <td>Anand</td>\n",
       "      <td>1971</td>\n",
       "    </tr>\n",
       "    <tr>\n",
       "      <th>3</th>\n",
       "      <td>Brahm Bhardwaj</td>\n",
       "      <td>nm0080231</td>\n",
       "      <td>Anand</td>\n",
       "      <td>1971</td>\n",
       "    </tr>\n",
       "    <tr>\n",
       "      <th>4</th>\n",
       "      <td>Dara Singh</td>\n",
       "      <td>nm0802107</td>\n",
       "      <td>Anand</td>\n",
       "      <td>1971</td>\n",
       "    </tr>\n",
       "  </tbody>\n",
       "</table>\n",
       "</div>"
      ],
      "text/plain": [
       "                Name         PID  title myear\n",
       "0   Amitabh Bachchan   nm0000821  Anand  1971\n",
       "1     Asit Kumar Sen   nm0783996  Anand  1971\n",
       "2       Atam Prakash   nm0695155  Anand  1971\n",
       "3     Brahm Bhardwaj   nm0080231  Anand  1971\n",
       "4         Dara Singh   nm0802107  Anand  1971"
      ]
     },
     "execution_count": 9,
     "metadata": {},
     "output_type": "execute_result"
    }
   ],
   "source": [
    "r2 = pd.read_sql_query(\"\"\"select distinct p.Name, mc.PID, m.title, substr(m.year, -4) as myear\n",
    "                    from Movie m, M_Cast mc, PERSON p\n",
    "                    where TRIM(m.title) = 'Anand' and TRIM(mc.MID) = TRIM(m.MID)\n",
    "                    and TRIM(p.PID) = TRIM(mc.PID)\n",
    "                    ORDER BY p.Name\"\"\", conn)\n",
    "print(r2.shape)\n",
    "r2.head()\n",
    "# TRIM(p.name),  where , PERSON p, M_Cast mc, "
   ]
  },
  {
   "cell_type": "code",
   "execution_count": 22,
   "metadata": {},
   "outputs": [],
   "source": [
    "# and mc.MID = m.MID\n",
    "#                     and p.PID = TRIM(mc.PID)\n",
    "#                     ORDER BY p.Name"
   ]
  },
  {
   "cell_type": "code",
   "execution_count": 14,
   "metadata": {},
   "outputs": [
    {
     "data": {
      "text/html": [
       "<div>\n",
       "<style scoped>\n",
       "    .dataframe tbody tr th:only-of-type {\n",
       "        vertical-align: middle;\n",
       "    }\n",
       "\n",
       "    .dataframe tbody tr th {\n",
       "        vertical-align: top;\n",
       "    }\n",
       "\n",
       "    .dataframe thead th {\n",
       "        text-align: right;\n",
       "    }\n",
       "</style>\n",
       "<table border=\"1\" class=\"dataframe\">\n",
       "  <thead>\n",
       "    <tr style=\"text-align: right;\">\n",
       "      <th></th>\n",
       "      <th>index</th>\n",
       "      <th>MID</th>\n",
       "      <th>PID</th>\n",
       "      <th>ID</th>\n",
       "    </tr>\n",
       "  </thead>\n",
       "  <tbody>\n",
       "    <tr>\n",
       "      <th>0</th>\n",
       "      <td>0</td>\n",
       "      <td>tt2388771</td>\n",
       "      <td>nm0000288</td>\n",
       "      <td>0</td>\n",
       "    </tr>\n",
       "    <tr>\n",
       "      <th>1</th>\n",
       "      <td>1</td>\n",
       "      <td>tt2388771</td>\n",
       "      <td>nm0000949</td>\n",
       "      <td>1</td>\n",
       "    </tr>\n",
       "    <tr>\n",
       "      <th>2</th>\n",
       "      <td>2</td>\n",
       "      <td>tt2388771</td>\n",
       "      <td>nm1212722</td>\n",
       "      <td>2</td>\n",
       "    </tr>\n",
       "    <tr>\n",
       "      <th>3</th>\n",
       "      <td>3</td>\n",
       "      <td>tt2388771</td>\n",
       "      <td>nm0365140</td>\n",
       "      <td>3</td>\n",
       "    </tr>\n",
       "    <tr>\n",
       "      <th>4</th>\n",
       "      <td>4</td>\n",
       "      <td>tt2388771</td>\n",
       "      <td>nm0785227</td>\n",
       "      <td>4</td>\n",
       "    </tr>\n",
       "  </tbody>\n",
       "</table>\n",
       "</div>"
      ],
      "text/plain": [
       "   index        MID         PID  ID\n",
       "0      0  tt2388771   nm0000288   0\n",
       "1      1  tt2388771   nm0000949   1\n",
       "2      2  tt2388771   nm1212722   2\n",
       "3      3  tt2388771   nm0365140   3\n",
       "4      4  tt2388771   nm0785227   4"
      ]
     },
     "execution_count": 14,
     "metadata": {},
     "output_type": "execute_result"
    }
   ],
   "source": [
    "mcast_df.head()"
   ]
  },
  {
   "cell_type": "markdown",
   "metadata": {},
   "source": [
    "2. List the names of all the actors who played in the movie 'Anand' (1971)\n",
    "3. List all the actors who acted in a film before 1970 and in a film after 1990. (That is: < 1970\n",
    "and > 1990.)"
   ]
  },
  {
   "cell_type": "code",
   "execution_count": 21,
   "metadata": {},
   "outputs": [
    {
     "name": "stdout",
     "output_type": "stream",
     "text": [
      "(86850, 3)\n"
     ]
    },
    {
     "data": {
      "text/html": [
       "<div>\n",
       "<style scoped>\n",
       "    .dataframe tbody tr th:only-of-type {\n",
       "        vertical-align: middle;\n",
       "    }\n",
       "\n",
       "    .dataframe tbody tr th {\n",
       "        vertical-align: top;\n",
       "    }\n",
       "\n",
       "    .dataframe thead th {\n",
       "        text-align: right;\n",
       "    }\n",
       "</style>\n",
       "<table border=\"1\" class=\"dataframe\">\n",
       "  <thead>\n",
       "    <tr style=\"text-align: right;\">\n",
       "      <th></th>\n",
       "      <th>Name</th>\n",
       "      <th>title</th>\n",
       "      <th>myear</th>\n",
       "    </tr>\n",
       "  </thead>\n",
       "  <tbody>\n",
       "    <tr>\n",
       "      <th>0</th>\n",
       "      <td>Prithviraj Kapoor</td>\n",
       "      <td>Alam Ara</td>\n",
       "      <td>1931</td>\n",
       "    </tr>\n",
       "    <tr>\n",
       "      <th>1</th>\n",
       "      <td>Elizer</td>\n",
       "      <td>Alam Ara</td>\n",
       "      <td>1931</td>\n",
       "    </tr>\n",
       "    <tr>\n",
       "      <th>2</th>\n",
       "      <td>Jagdish Sethi</td>\n",
       "      <td>Alam Ara</td>\n",
       "      <td>1931</td>\n",
       "    </tr>\n",
       "    <tr>\n",
       "      <th>3</th>\n",
       "      <td>Jillo</td>\n",
       "      <td>Alam Ara</td>\n",
       "      <td>1931</td>\n",
       "    </tr>\n",
       "    <tr>\n",
       "      <th>4</th>\n",
       "      <td>W.M. Khan</td>\n",
       "      <td>Alam Ara</td>\n",
       "      <td>1931</td>\n",
       "    </tr>\n",
       "  </tbody>\n",
       "</table>\n",
       "</div>"
      ],
      "text/plain": [
       "                 Name     title myear\n",
       "0   Prithviraj Kapoor  Alam Ara  1931\n",
       "1              Elizer  Alam Ara  1931\n",
       "2       Jagdish Sethi  Alam Ara  1931\n",
       "3               Jillo  Alam Ara  1931\n",
       "4           W.M. Khan  Alam Ara  1931"
      ]
     },
     "execution_count": 21,
     "metadata": {},
     "output_type": "execute_result"
    }
   ],
   "source": [
    "r3 = pd.read_sql_query(\"\"\"select p.Name, m.title, substr(m.year, -4) as myear\n",
    "                          from Movie m, M_Cast mc, Person p\n",
    "                          where (myear < 1970 OR myear > 1990)\n",
    "                          and mc.MID = m.MID and TRIM(mc.PID) = p.PID\n",
    "                          ORDER by myear\"\"\", conn)\n",
    "print(r3.shape)\n",
    "r3.head(5)\n",
    "# TRIM(p.name),  where , PERSON p, M_Cast mc"
   ]
  },
  {
   "cell_type": "markdown",
   "metadata": {},
   "source": [
    "4.List all directors who directed 10 movies or more, in descending order of the number of\n",
    "movies they directed. Return the directors' names and the number of movies each of them\n",
    "directed."
   ]
  },
  {
   "cell_type": "code",
   "execution_count": 33,
   "metadata": {},
   "outputs": [
    {
     "name": "stdout",
     "output_type": "stream",
     "text": [
      "(156, 2)\n"
     ]
    },
    {
     "data": {
      "text/html": [
       "<div>\n",
       "<style scoped>\n",
       "    .dataframe tbody tr th:only-of-type {\n",
       "        vertical-align: middle;\n",
       "    }\n",
       "\n",
       "    .dataframe tbody tr th {\n",
       "        vertical-align: top;\n",
       "    }\n",
       "\n",
       "    .dataframe thead th {\n",
       "        text-align: right;\n",
       "    }\n",
       "</style>\n",
       "<table border=\"1\" class=\"dataframe\">\n",
       "  <thead>\n",
       "    <tr style=\"text-align: right;\">\n",
       "      <th></th>\n",
       "      <th>dir_name</th>\n",
       "      <th>mv_count</th>\n",
       "    </tr>\n",
       "  </thead>\n",
       "  <tbody>\n",
       "    <tr>\n",
       "      <th>0</th>\n",
       "      <td>David Dhawan</td>\n",
       "      <td>78</td>\n",
       "    </tr>\n",
       "    <tr>\n",
       "      <th>1</th>\n",
       "      <td>Mahesh Bhatt</td>\n",
       "      <td>72</td>\n",
       "    </tr>\n",
       "    <tr>\n",
       "      <th>2</th>\n",
       "      <td>Ram Gopal Varma</td>\n",
       "      <td>60</td>\n",
       "    </tr>\n",
       "    <tr>\n",
       "      <th>3</th>\n",
       "      <td>Vikram Bhatt</td>\n",
       "      <td>58</td>\n",
       "    </tr>\n",
       "    <tr>\n",
       "      <th>4</th>\n",
       "      <td>Hrishikesh Mukherjee</td>\n",
       "      <td>54</td>\n",
       "    </tr>\n",
       "  </tbody>\n",
       "</table>\n",
       "</div>"
      ],
      "text/plain": [
       "               dir_name  mv_count\n",
       "0          David Dhawan        78\n",
       "1          Mahesh Bhatt        72\n",
       "2       Ram Gopal Varma        60\n",
       "3          Vikram Bhatt        58\n",
       "4  Hrishikesh Mukherjee        54"
      ]
     },
     "execution_count": 33,
     "metadata": {},
     "output_type": "execute_result"
    }
   ],
   "source": [
    "r4 = pd.read_sql_query(\"\"\"select distinct TRIM(p.name) as dir_name, Count(m.title) as mv_count\n",
    "                         from PERSON p, M_Director md, Movie m\n",
    "                         where md.MID = m.MID and p.PID = TRIM(md.PID)\n",
    "                         GROUP BY dir_name having Count(dir_name) > 9\n",
    "                         ORDER BY mv_count DESC;\"\"\", conn)\n",
    "print(r4.shape)\n",
    "r4.head()"
   ]
  },
  {
   "cell_type": "code",
   "execution_count": null,
   "metadata": {},
   "outputs": [],
   "source": []
  },
  {
   "cell_type": "code",
   "execution_count": 38,
   "metadata": {},
   "outputs": [
    {
     "name": "stdout",
     "output_type": "stream",
     "text": [
      "(1, 3)\n"
     ]
    },
    {
     "data": {
      "text/html": [
       "<div>\n",
       "<style scoped>\n",
       "    .dataframe tbody tr th:only-of-type {\n",
       "        vertical-align: middle;\n",
       "    }\n",
       "\n",
       "    .dataframe tbody tr th {\n",
       "        vertical-align: top;\n",
       "    }\n",
       "\n",
       "    .dataframe thead th {\n",
       "        text-align: right;\n",
       "    }\n",
       "</style>\n",
       "<table border=\"1\" class=\"dataframe\">\n",
       "  <thead>\n",
       "    <tr style=\"text-align: right;\">\n",
       "      <th></th>\n",
       "      <th>m_year</th>\n",
       "      <th>title</th>\n",
       "      <th>mv_count</th>\n",
       "    </tr>\n",
       "  </thead>\n",
       "  <tbody>\n",
       "    <tr>\n",
       "      <th>0</th>\n",
       "      <td>1994</td>\n",
       "      <td>Kanoon</td>\n",
       "      <td>23324</td>\n",
       "    </tr>\n",
       "  </tbody>\n",
       "</table>\n",
       "</div>"
      ],
      "text/plain": [
       "  m_year   title  mv_count\n",
       "0   1994  Kanoon     23324"
      ]
     },
     "execution_count": 38,
     "metadata": {},
     "output_type": "execute_result"
    }
   ],
   "source": [
    "r5 = pd.read_sql_query(\"\"\"select distinct  substr(m.year, -4) as m_year, m.title, Count(m.title) as mv_count\n",
    "                         from PERSON p, M_Cast mc, Movie m\n",
    "                         where p.Gender = 'Female'\n",
    "                         and mc.MID = m.MID and TRIM(mc.PID) = p.PID\n",
    "                         ORDER BY mv_count DESC;\"\"\", conn)\n",
    "print(r5.shape)\n",
    "r5.head()"
   ]
  },
  {
   "cell_type": "code",
   "execution_count": 39,
   "metadata": {},
   "outputs": [
    {
     "data": {
      "text/html": [
       "<div>\n",
       "<style scoped>\n",
       "    .dataframe tbody tr th:only-of-type {\n",
       "        vertical-align: middle;\n",
       "    }\n",
       "\n",
       "    .dataframe tbody tr th {\n",
       "        vertical-align: top;\n",
       "    }\n",
       "\n",
       "    .dataframe thead th {\n",
       "        text-align: right;\n",
       "    }\n",
       "</style>\n",
       "<table border=\"1\" class=\"dataframe\">\n",
       "  <thead>\n",
       "    <tr style=\"text-align: right;\">\n",
       "      <th></th>\n",
       "      <th>index</th>\n",
       "      <th>PID</th>\n",
       "      <th>Name</th>\n",
       "      <th>Gender</th>\n",
       "    </tr>\n",
       "  </thead>\n",
       "  <tbody>\n",
       "    <tr>\n",
       "      <th>0</th>\n",
       "      <td>0</td>\n",
       "      <td>nm0000288</td>\n",
       "      <td>Christian Bale</td>\n",
       "      <td>Male</td>\n",
       "    </tr>\n",
       "    <tr>\n",
       "      <th>1</th>\n",
       "      <td>1</td>\n",
       "      <td>nm0000949</td>\n",
       "      <td>Cate Blanchett</td>\n",
       "      <td>Female</td>\n",
       "    </tr>\n",
       "    <tr>\n",
       "      <th>2</th>\n",
       "      <td>2</td>\n",
       "      <td>nm1212722</td>\n",
       "      <td>Benedict Cumberbatch</td>\n",
       "      <td>Male</td>\n",
       "    </tr>\n",
       "    <tr>\n",
       "      <th>3</th>\n",
       "      <td>3</td>\n",
       "      <td>nm0365140</td>\n",
       "      <td>Naomie Harris</td>\n",
       "      <td>Female</td>\n",
       "    </tr>\n",
       "    <tr>\n",
       "      <th>4</th>\n",
       "      <td>4</td>\n",
       "      <td>nm0785227</td>\n",
       "      <td>Andy Serkis</td>\n",
       "      <td>Male</td>\n",
       "    </tr>\n",
       "  </tbody>\n",
       "</table>\n",
       "</div>"
      ],
      "text/plain": [
       "   index        PID                   Name  Gender\n",
       "0      0  nm0000288         Christian Bale    Male\n",
       "1      1  nm0000949         Cate Blanchett  Female\n",
       "2      2  nm1212722   Benedict Cumberbatch    Male\n",
       "3      3  nm0365140          Naomie Harris  Female\n",
       "4      4  nm0785227            Andy Serkis    Male"
      ]
     },
     "execution_count": 39,
     "metadata": {},
     "output_type": "execute_result"
    }
   ],
   "source": [
    "person_df.head()"
   ]
  },
  {
   "cell_type": "code",
   "execution_count": 23,
   "metadata": {},
   "outputs": [
    {
     "name": "stdout",
     "output_type": "stream",
     "text": [
      "Index(['index', 'MID', 'title', 'year', 'rating', 'num_votes'], dtype='object')\n",
      "Index(['index', 'Name', 'GID'], dtype='object')\n",
      "Index(['index', 'MID', 'PID', 'ID'], dtype='object')\n",
      "Index(['index', 'PID', 'Name', 'Gender'], dtype='object')\n",
      "Index(['index', 'MID', 'GID', 'ID'], dtype='object')\n",
      "Index(['index', 'MID', 'PID', 'ID'], dtype='object')\n"
     ]
    }
   ],
   "source": [
    "print(movie_df.columns)\n",
    "print(genre_df.columns)\n",
    "print(mdir_df.columns)\n",
    "print(person_df.columns)\n",
    "print(mgen_df.columns)\n",
    "print(mcast_df.columns)"
   ]
  },
  {
   "cell_type": "markdown",
   "metadata": {},
   "source": [
    "5.\n",
    "a. For each year, count the number of movies in that year that had only female actors.\n",
    "b. Now include a small change: report for each year the percentage of movies in that\n",
    "year with only female actors, and the total number of movies made that year. For\n",
    "example, one answer will be: 1990 31.81 13522 meaning that in 1990 there were\n",
    "13,522 movies, and 31.81% had only female actors. You do not need to round your\n",
    "answer.\n",
    "6. Find the film(s) with the largest cast. Return the movie title and the size of the cast. By \"cast\n",
    "size\" we mean the number of distinct actors that played in that movie: if an actor played\n",
    "multiple roles, or if it simply occurs multiple times in casts, we still count her/him only\n",
    "once.\n",
    "7. A decade is a sequence of 10 consecutive years. For example, say in your database you have\n",
    "movie information starting from 1965. Then the first decade is 1965, 1966, ..., 1974; the\n",
    "second one is 1967, 1968, ..., 1976 and so on. Find the decade D with the largest number of\n",
    "films and the total number of films in D.\n",
    "8. Find the actors that were never unemployed for more than 3 years at a stretch. (Assume\n",
    "that the actors remain unemployed between two consecutive movies).\n",
    "9. Find all the actors that made more movies with Yash Chopra than any other director.\n",
    "10. The Shahrukh number of an actor is the length of the shortest path between the actor and\n",
    "Shahrukh Khan in the \"co-acting\" graph. That is, Shahrukh Khan has Shahrukh number 0; all\n",
    "actors who acted in the same film as Shahrukh have Shahrukh number 1; all actors who\n",
    "acted in the same film as some actor with Shahrukh number 1 have Shahrukh number 2, etc.\n",
    "Return all actors whose Shahrukh number is 2."
   ]
  },
  {
   "cell_type": "markdown",
   "metadata": {},
   "source": [
    " - 4.List all directors who directed 10 movies or more, in descending order of the number of\n",
    "movies they directed. Return the directors' names and the number of movies each of them\n",
    "directed."
   ]
  }
 ],
 "metadata": {
  "kernelspec": {
   "display_name": "Python 3",
   "language": "python",
   "name": "python3"
  },
  "language_info": {
   "codemirror_mode": {
    "name": "ipython",
    "version": 3
   },
   "file_extension": ".py",
   "mimetype": "text/x-python",
   "name": "python",
   "nbconvert_exporter": "python",
   "pygments_lexer": "ipython3",
   "version": "3.6.4"
  }
 },
 "nbformat": 4,
 "nbformat_minor": 2
}
